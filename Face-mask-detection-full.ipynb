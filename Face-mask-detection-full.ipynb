{
 "cells": [
  {
   "cell_type": "markdown",
   "id": "4b6cf684",
   "metadata": {},
   "source": [
    "## Importing libraries "
   ]
  },
  {
   "cell_type": "code",
   "execution_count": null,
   "id": "a10279b8",
   "metadata": {},
   "outputs": [],
   "source": [
    "import numpy as np\n",
    "import pandas as pd\n",
    "%matplotlib inline\n",
    "import matplotlib as mpl\n",
    "import matplotlib.pyplot as plt\n",
    "import os\n",
    "\n",
    "import tensorflow as tf\n",
    "from tensorflow import keras\n",
    "\n",
    "from tensorflow.keras.preprocessing.image import ImageDataGenerator\n",
    "from keras.preprocessing.image import img_to_array\n",
    "\n",
    "import cv2\n",
    "from skimage import io"
   ]
  },
  {
   "cell_type": "markdown",
   "id": "0fe192c5",
   "metadata": {},
   "source": [
    "## Save location to variables"
   ]
  },
  {
   "cell_type": "code",
   "execution_count": null,
   "id": "cd29d8da",
   "metadata": {},
   "outputs": [],
   "source": [
    "# save location of folders in variables\n",
    "train_dir = r'C:\\Users\\AKSHAT\\Desktop\\DL_internshala\\Final_Assignment_Face Mask Dataset\\Train' \n",
    "validation_dir = r'C:\\Users\\AKSHAT\\Desktop\\DL_internshala\\Final_Assignment_Face Mask Dataset\\Validation'\n",
    "test_dir = r'C:\\Users\\AKSHAT\\Desktop\\DL_internshala\\Final_Assignment_Face Mask Dataset\\Test'"
   ]
  },
  {
   "cell_type": "markdown",
   "id": "61ed311c",
   "metadata": {},
   "source": [
    "## Image datagenerator"
   ]
  },
  {
   "cell_type": "code",
   "execution_count": null,
   "id": "4e4f0c87",
   "metadata": {},
   "outputs": [],
   "source": [
    "from tensorflow.keras.preprocessing.image import ImageDataGenerator"
   ]
  },
  {
   "cell_type": "code",
   "execution_count": null,
   "id": "1f80a18a",
   "metadata": {},
   "outputs": [],
   "source": [
    "# Data Augmentation using image data-generator\n",
    "train_datagen = ImageDataGenerator(rescale=1./255,\n",
    "                                  rotation_range=40,\n",
    "                                  width_shift_range=0.2,\n",
    "                                  height_shift_range=0.2,\n",
    "                                  shear_range=0.2,\n",
    "                                  zoom_range=0.2,\n",
    "                                  horizontal_flip=True)\n",
    "\n",
    "# for rescaling test data matrices values \n",
    "test_datagen = ImageDataGenerator(rescale=1./255)\n",
    "\n",
    "# training dataset\n",
    "train_generator = train_datagen.flow_from_directory(train_dir,\n",
    "                                                   target_size=(128,128),\n",
    "                                                   batch_size=32,\n",
    "                                                   class_mode='binary')\n",
    "# validation dataset\n",
    "validation_generator = test_datagen.flow_from_directory(validation_dir,\n",
    "                                                       target_size=(128,128),\n",
    "                                                       batch_size=32,\n",
    "                                                       class_mode='binary')"
   ]
  },
  {
   "cell_type": "markdown",
   "id": "67e8bd4a",
   "metadata": {},
   "source": [
    "## VGG-19 model"
   ]
  },
  {
   "cell_type": "code",
   "execution_count": null,
   "id": "fe10e0eb",
   "metadata": {},
   "outputs": [],
   "source": [
    "from tensorflow.keras.applications import VGG19"
   ]
  },
  {
   "cell_type": "code",
   "execution_count": null,
   "id": "b9198466",
   "metadata": {},
   "outputs": [],
   "source": [
    "conv_base = VGG19(weights='imagenet', \n",
    "                 include_top=False, \n",
    "                 input_shape=(128,128,3))"
   ]
  },
  {
   "cell_type": "code",
   "execution_count": null,
   "id": "261e37e9",
   "metadata": {},
   "outputs": [],
   "source": [
    "conv_base.summary()"
   ]
  },
  {
   "cell_type": "markdown",
   "id": "2363ed4a",
   "metadata": {},
   "source": [
    "## Creating CNN model with base model as VGG-19"
   ]
  },
  {
   "cell_type": "code",
   "execution_count": null,
   "id": "6c8a3dd6",
   "metadata": {},
   "outputs": [],
   "source": [
    "from tensorflow.keras import layers, models\n",
    "\n",
    "# connect Fully connected Dense layer and ouput layer in front of the conv_base\n",
    "\n",
    "model = models.Sequential()\n",
    "model.add(conv_base)\n",
    "model.add(layers.Flatten())\n",
    "model.add(layers.Dense(256, activation='relu'))\n",
    "model.add(layers.Dense(1, activation='sigmoid'))"
   ]
  },
  {
   "cell_type": "code",
   "execution_count": null,
   "id": "17d95f5e",
   "metadata": {},
   "outputs": [],
   "source": [
    "conv_base.trainable = False"
   ]
  },
  {
   "cell_type": "code",
   "execution_count": null,
   "id": "18106f23",
   "metadata": {},
   "outputs": [],
   "source": [
    "model.summary()"
   ]
  },
  {
   "cell_type": "code",
   "execution_count": null,
   "id": "8f2dca0d",
   "metadata": {},
   "outputs": [],
   "source": [
    "# compile the model\n",
    "from tensorflow.keras import optimizers\n",
    "\n",
    "model.compile(loss='binary_crossentropy',\n",
    "             optimizer=optimizers.RMSprop(learning_rate=1e-4), # using smaller LR as we need to fine tune our already trained model\n",
    "             metrics=['acc'])"
   ]
  },
  {
   "cell_type": "markdown",
   "id": "e60150cc",
   "metadata": {},
   "source": [
    "## Save best-model"
   ]
  },
  {
   "cell_type": "code",
   "execution_count": null,
   "id": "51a0cdb1",
   "metadata": {},
   "outputs": [],
   "source": [
    "checkpoint_cb = keras.callbacks.ModelCheckpoint(\"Face_Mask_Detection_VGG19_Model-{epoch:02d}.h5\",save_best_only=True)"
   ]
  },
  {
   "cell_type": "markdown",
   "id": "23660a9e",
   "metadata": {},
   "source": [
    "## Model history"
   ]
  },
  {
   "cell_type": "code",
   "execution_count": null,
   "id": "57480336",
   "metadata": {},
   "outputs": [],
   "source": [
    "model_history = model.fit(train_generator, \n",
    "                                   steps_per_epoch=train_generator.samples/train_generator.batch_size,  \n",
    "                                   epochs=10,\n",
    "                                   validation_data=validation_generator, \n",
    "                                   validation_steps=validation_generator.samples/validation_generator.batch_size,\n",
    "                                   callbacks=[checkpoint_cb])"
   ]
  },
  {
   "cell_type": "markdown",
   "id": "f370802d",
   "metadata": {},
   "source": [
    "## Model performance visualization of validation and training data"
   ]
  },
  {
   "cell_type": "code",
   "execution_count": null,
   "id": "8a9f9335",
   "metadata": {},
   "outputs": [],
   "source": [
    "pd.DataFrame(model_history.history).plot(figsize=(8,5))\n",
    "plt.grid(True)\n",
    "plt.gca().set_ylim(0,1)\n",
    "plt.show()"
   ]
  },
  {
   "cell_type": "markdown",
   "id": "9f111b1b",
   "metadata": {},
   "source": [
    "## Testing model performance"
   ]
  },
  {
   "cell_type": "code",
   "execution_count": null,
   "id": "a8644708",
   "metadata": {},
   "outputs": [],
   "source": [
    "test_generator = test_datagen.flow_from_directory(test_dir,\n",
    "                                                 target_size=(128,128),\n",
    "                                                 batch_size=20,\n",
    "                                                 class_mode='binary')\n",
    "                                                 "
   ]
  },
  {
   "cell_type": "code",
   "execution_count": null,
   "id": "4f8f6279",
   "metadata": {},
   "outputs": [],
   "source": [
    "# evaluate model on test data\n",
    "model.evaluate(test_generator, steps=test_generator.samples/test_generator.batch_size)"
   ]
  },
  {
   "cell_type": "markdown",
   "id": "fad8ac5c",
   "metadata": {},
   "source": [
    "## Real time face-mask detection using web-cam"
   ]
  },
  {
   "cell_type": "code",
   "execution_count": null,
   "id": "3fc313e0",
   "metadata": {},
   "outputs": [],
   "source": [
    "# load the best-save model\n",
    "load_model = keras.models.load_model('Face_Mask_Detection_VGG19_Model-08.h5')"
   ]
  },
  {
   "cell_type": "code",
   "execution_count": null,
   "id": "5be33a5a",
   "metadata": {},
   "outputs": [],
   "source": [
    "# creating labels\n",
    "labels = {0: 'WithMask', 1: 'WithoutMask'}\n",
    "\n",
    "# xml file to take only-face as input from the frames captured by web-cam\n",
    "face_classifier = cv2.CascadeClassifier(r'haarcascade_frontalface_default.xml')"
   ]
  },
  {
   "cell_type": "code",
   "execution_count": null,
   "id": "d3620c10",
   "metadata": {},
   "outputs": [],
   "source": [
    "cap = cv2.VideoCapture(0)\n",
    "\n",
    "while(True):\n",
    "    _, frame = cap.read()\n",
    "\n",
    "    rgb = cv2.cvtColor(frame,cv2.COLOR_BGR2RGB)\n",
    "    faces = face_classifier.detectMultiScale(rgb)\n",
    "\n",
    "    for (x,y,w,h) in faces:\n",
    "        cv2.rectangle(frame,(x,y),(x+w,y+h),(0,255,255),2)\n",
    "        roi_rgb = rgb[y:y+h,x:x+w]\n",
    "        roi_rgb = cv2.resize(roi_rgb,(128,128),interpolation=cv2.INTER_AREA)\n",
    "\n",
    "#             x = cv2.resize(frame,(128,128))\n",
    "        if np.sum([roi_rgb]) != 0 :\n",
    "\n",
    "            x = np.expand_dims(roi_rgb,axis=0) # reshaping to (1,128,128,3)\n",
    "            x = test_datagen.flow(x)\n",
    "# #                     x = img_to_array(x)\n",
    "\n",
    "\n",
    "\n",
    "\n",
    "            prediction = load_model.predict(x[0])\n",
    "            label = labels[int(np.round(prediction, decimals=0))]\n",
    "            print(label)\n",
    "#             label_position = (x,y)\n",
    "#             cv2.putText(frame,label,label_position,cv2.FONT_HERSHEY_SIMPLEX,1,(0,255,0),2)\n",
    "#         else:\n",
    "#             cv2.putText(frame,'No Faces',(30,80),cv2.FONT_HERSHEY_SIMPLEX,1,(0,255,0),2)\n",
    "\n",
    "    cv2.imshow('Face Mask Detector',frame)\n",
    "    if cv2.waitKey(1) & 0xFF == ord('q'):\n",
    "        break"
   ]
  }
 ],
 "metadata": {
  "kernelspec": {
   "display_name": "Python 3",
   "language": "python",
   "name": "python3"
  },
  "language_info": {
   "codemirror_mode": {
    "name": "ipython",
    "version": 3
   },
   "file_extension": ".py",
   "mimetype": "text/x-python",
   "name": "python",
   "nbconvert_exporter": "python",
   "pygments_lexer": "ipython3",
   "version": "3.8.8"
  }
 },
 "nbformat": 4,
 "nbformat_minor": 5
}
